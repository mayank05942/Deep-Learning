{
  "nbformat": 4,
  "nbformat_minor": 0,
  "metadata": {
    "colab": {
      "name": "Untitled4.ipynb",
      "provenance": [],
      "private_outputs": true,
      "mount_file_id": "1QfMS7OAnjRfbAnLQvpHl4OeUE2_XS82-",
      "authorship_tag": "ABX9TyOt/I5qumHtsSc9dfdmn4lf",
      "include_colab_link": true
    },
    "kernelspec": {
      "name": "python3",
      "display_name": "Python 3"
    },
    "accelerator": "GPU"
  },
  "cells": [
    {
      "cell_type": "markdown",
      "metadata": {
        "id": "view-in-github",
        "colab_type": "text"
      },
      "source": [
        "<a href=\"https://colab.research.google.com/github/mayank05942/Deep-Learning/blob/master/Untitled4.ipynb\" target=\"_parent\"><img src=\"https://colab.research.google.com/assets/colab-badge.svg\" alt=\"Open In Colab\"/></a>"
      ]
    },
    {
      "cell_type": "code",
      "metadata": {
        "id": "90oe6EkegI82",
        "colab_type": "code",
        "colab": {}
      },
      "source": [
        "import sklearn\n",
        "import pandas as pd\n",
        "import torch\n",
        "from sklearn.model_selection import train_test_split\n",
        "import torch.nn.functional as F\n",
        "import torch.nn as nn\n",
        "from torch import optim\n",
        "from sklearn.metrics import accuracy_score, precision_score, recall_score\n",
        "import time\n",
        "from torch.autograd import Variable\n",
        "\n"
      ],
      "execution_count": null,
      "outputs": []
    },
    {
      "cell_type": "code",
      "metadata": {
        "id": "u5K9s_sSgSCC",
        "colab_type": "code",
        "colab": {}
      },
      "source": [
        "class FFNetwork(nn.Module):\n",
        "\n",
        "  def __init__(self):\n",
        "    super().__init__()\n",
        "    #torch.manual.seed(0)\n",
        "    self.net = nn.Sequential(\n",
        "        nn.Linear(4,100),\n",
        "        nn.Sigmoid(),\n",
        "        nn.Linear(100,3),\n",
        "        nn.Softmax(dim = 1)\n",
        "    )\n",
        "\n",
        "  def forward(self,X):\n",
        "    return self.net(X)"
      ],
      "execution_count": null,
      "outputs": []
    },
    {
      "cell_type": "code",
      "metadata": {
        "id": "FFn_zYR1hGnB",
        "colab_type": "code",
        "colab": {}
      },
      "source": [
        "def fit(x,y,model,opt,loss_fn,epochs = 10000):\n",
        "\n",
        "  for _ in range(epochs):\n",
        "    loss = loss_fn(model(x),y)\n",
        "\n",
        "    loss.backward()\n",
        "    opt.step()\n",
        "    opt.zero_grad()\n",
        "  \n",
        "  return loss.item()\n",
        "\n"
      ],
      "execution_count": null,
      "outputs": []
    },
    {
      "cell_type": "code",
      "metadata": {
        "id": "tBFuHnbQIyIG",
        "colab_type": "code",
        "colab": {}
      },
      "source": [
        "import sklearn\n",
        "from sklearn import datasets\n",
        "iris = datasets.load_iris()\n",
        "X = iris.data\n",
        "Y = iris.target\n",
        "Y"
      ],
      "execution_count": null,
      "outputs": []
    },
    {
      "cell_type": "code",
      "metadata": {
        "id": "Eqblj3GsGMx6",
        "colab_type": "code",
        "colab": {}
      },
      "source": [
        "X_train, X_val, Y_train, Y_val = train_test_split(X, Y, stratify=Y, random_state=0)\n",
        "print(X_train.shape, X_val.shape, Y.shape)"
      ],
      "execution_count": null,
      "outputs": []
    },
    {
      "cell_type": "code",
      "metadata": {
        "id": "x3quRDoBOdvE",
        "colab_type": "code",
        "colab": {}
      },
      "source": [
        "#X_train, Y_train, X_val, Y_val = map(torch.tensor, (X_train, Y_train, X_val, Y_val))\n"
      ],
      "execution_count": null,
      "outputs": []
    },
    {
      "cell_type": "code",
      "metadata": {
        "id": "S8gNaribO9aB",
        "colab_type": "code",
        "colab": {}
      },
      "source": [
        "X_train = Variable(torch.Tensor(X_train).float())\n",
        "X_val = Variable(torch.Tensor(X_val).float())\n",
        "Y_train = Variable(torch.Tensor(Y_train).long())\n",
        "Y_val = Variable(torch.Tensor(Y_val).long())"
      ],
      "execution_count": null,
      "outputs": []
    },
    {
      "cell_type": "code",
      "metadata": {
        "id": "I92Jt55xodtb",
        "colab_type": "code",
        "colab": {}
      },
      "source": [
        "device = torch.device(\"cpu\")\n",
        "\n",
        "X_train=X_train.to(device)\n",
        "Y_train=Y_train.to(device)\n",
        "fn = FFNetwork()\n",
        "\n",
        "fn.to(device)\n",
        "tic = time.time()\n",
        "loss_fn = nn.CrossEntropyLoss()\n",
        "opt = optim.SGD(fn.parameters(),lr = 0.01)\n",
        "print('Final loss', fit(X_train, Y_train, fn, opt, loss_fn))\n",
        "toc = time.time()\n",
        "print('Time taken', toc - tic)"
      ],
      "execution_count": null,
      "outputs": []
    },
    {
      "cell_type": "code",
      "metadata": {
        "id": "XAOTWUq-z_mg",
        "colab_type": "code",
        "colab": {}
      },
      "source": [
        "pred_val  = fn(X_val)\n",
        "_, pred_ans = torch.max(pred_val, 1)\n",
        "print(Y_val)\n",
        "pred_ans"
      ],
      "execution_count": null,
      "outputs": []
    },
    {
      "cell_type": "code",
      "metadata": {
        "id": "0P4mOboP3Guq",
        "colab_type": "code",
        "colab": {}
      },
      "source": [
        "print(\"Accuracy_Score\",accuracy_score(pred_ans.data,Y_val.data))"
      ],
      "execution_count": null,
      "outputs": []
    }
  ]
}